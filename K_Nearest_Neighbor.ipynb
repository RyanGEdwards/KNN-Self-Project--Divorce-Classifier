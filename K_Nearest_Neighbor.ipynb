{
  "nbformat": 4,
  "nbformat_minor": 0,
  "metadata": {
    "colab": {
      "provenance": []
    },
    "kernelspec": {
      "name": "python3",
      "display_name": "Python 3"
    },
    "language_info": {
      "name": "python"
    }
  },
  "cells": [
    {
      "cell_type": "markdown",
      "source": [
        "# **Supervised K-Nearest Neighbor Learning Project**\n",
        "In order to better understand the workings of the k-nearest neighbor algorithm I started this personal project.\n"
      ],
      "metadata": {
        "id": "IoprKxrCbKZE"
      }
    },
    {
      "cell_type": "markdown",
      "source": [
        "The k-nearest neighbor algorithm is a lazy classification algorithm meaning that it does not rely on training a model in order to make decisions. Instead, it just compares new data to old data it already has and classifies. In the case of k-nearest neighbor, we calculate the k closest points to some point x and classify x based on what each of these k points are. For this project, I will utilize both the Euclidean distance and Manhattan distance formulas."
      ],
      "metadata": {
        "id": "gMp_lUNGlsrs"
      }
    },
    {
      "cell_type": "markdown",
      "source": [
        "## Overview"
      ],
      "metadata": {
        "id": "v89qRRpBlDB8"
      }
    },
    {
      "cell_type": "markdown",
      "source": [
        "The focal point of this project will be determining whether a couple will divorce or stay together based on the individual's responses to a 54 question survey. For each question they will give an answer from 0-4. The dataset includes approximately the same proportion of responses from male and female individuals as well as approximately the same proportion of divorced and married individuals. This dataset was found on kaggle and will be made available via a link below or as a .csv included with this file."
      ],
      "metadata": {
        "id": "gKaoBxJVU-J-"
      }
    },
    {
      "cell_type": "markdown",
      "source": [
        "## Introduction"
      ],
      "metadata": {
        "id": "KgdBGrHkLeBd"
      }
    },
    {
      "cell_type": "markdown",
      "source": [
        "The first step is to import all necessary libraries and data. We can use pandas for data storage as well as matploblib.pyplot for data visualization."
      ],
      "metadata": {
        "id": "jq4FoVp-r0j_"
      }
    },
    {
      "cell_type": "code",
      "execution_count": 21,
      "metadata": {
        "id": "rH-qA1RUaToz"
      },
      "outputs": [],
      "source": [
        "import pandas as pd\n",
        "import matplotlib.pyplot as plt"
      ]
    },
    {
      "cell_type": "code",
      "source": [
        "# Noticed that I had to change ; to , in .csv\n",
        "data = pd.read_csv('/content/sample_data/divorce.csv')\n",
        "data.head()"
      ],
      "metadata": {
        "colab": {
          "base_uri": "https://localhost:8080/",
          "height": 236
        },
        "id": "LH_DF3XZdbJG",
        "outputId": "46313b2b-770a-4782-c739-27e3544bdab8"
      },
      "execution_count": 22,
      "outputs": [
        {
          "output_type": "execute_result",
          "data": {
            "text/plain": [
              "   Atr1  Atr2  Atr3  Atr4  Atr5  Atr6  Atr7  Atr8  Atr9  Atr10  ...  Atr46  \\\n",
              "0     2     2     4     1     0     0     0     0     0      0  ...      2   \n",
              "1     4     4     4     4     4     0     0     4     4      4  ...      2   \n",
              "2     2     2     2     2     1     3     2     1     1      2  ...      3   \n",
              "3     3     2     3     2     3     3     3     3     3      3  ...      2   \n",
              "4     2     2     1     1     1     1     0     0     0      0  ...      2   \n",
              "\n",
              "   Atr47  Atr48  Atr49  Atr50  Atr51  Atr52  Atr53  Atr54  Class  \n",
              "0      1      3      3      3      2      3      2      1      1  \n",
              "1      2      3      4      4      4      4      2      2      1  \n",
              "2      2      3      1      1      1      2      2      2      1  \n",
              "3      2      3      3      3      3      2      2      2      1  \n",
              "4      1      2      3      2      2      2      1      0      1  \n",
              "\n",
              "[5 rows x 55 columns]"
            ],
            "text/html": [
              "\n",
              "  <div id=\"df-71553736-1f23-4cc7-90a5-a0334c20811d\" class=\"colab-df-container\">\n",
              "    <div>\n",
              "<style scoped>\n",
              "    .dataframe tbody tr th:only-of-type {\n",
              "        vertical-align: middle;\n",
              "    }\n",
              "\n",
              "    .dataframe tbody tr th {\n",
              "        vertical-align: top;\n",
              "    }\n",
              "\n",
              "    .dataframe thead th {\n",
              "        text-align: right;\n",
              "    }\n",
              "</style>\n",
              "<table border=\"1\" class=\"dataframe\">\n",
              "  <thead>\n",
              "    <tr style=\"text-align: right;\">\n",
              "      <th></th>\n",
              "      <th>Atr1</th>\n",
              "      <th>Atr2</th>\n",
              "      <th>Atr3</th>\n",
              "      <th>Atr4</th>\n",
              "      <th>Atr5</th>\n",
              "      <th>Atr6</th>\n",
              "      <th>Atr7</th>\n",
              "      <th>Atr8</th>\n",
              "      <th>Atr9</th>\n",
              "      <th>Atr10</th>\n",
              "      <th>...</th>\n",
              "      <th>Atr46</th>\n",
              "      <th>Atr47</th>\n",
              "      <th>Atr48</th>\n",
              "      <th>Atr49</th>\n",
              "      <th>Atr50</th>\n",
              "      <th>Atr51</th>\n",
              "      <th>Atr52</th>\n",
              "      <th>Atr53</th>\n",
              "      <th>Atr54</th>\n",
              "      <th>Class</th>\n",
              "    </tr>\n",
              "  </thead>\n",
              "  <tbody>\n",
              "    <tr>\n",
              "      <th>0</th>\n",
              "      <td>2</td>\n",
              "      <td>2</td>\n",
              "      <td>4</td>\n",
              "      <td>1</td>\n",
              "      <td>0</td>\n",
              "      <td>0</td>\n",
              "      <td>0</td>\n",
              "      <td>0</td>\n",
              "      <td>0</td>\n",
              "      <td>0</td>\n",
              "      <td>...</td>\n",
              "      <td>2</td>\n",
              "      <td>1</td>\n",
              "      <td>3</td>\n",
              "      <td>3</td>\n",
              "      <td>3</td>\n",
              "      <td>2</td>\n",
              "      <td>3</td>\n",
              "      <td>2</td>\n",
              "      <td>1</td>\n",
              "      <td>1</td>\n",
              "    </tr>\n",
              "    <tr>\n",
              "      <th>1</th>\n",
              "      <td>4</td>\n",
              "      <td>4</td>\n",
              "      <td>4</td>\n",
              "      <td>4</td>\n",
              "      <td>4</td>\n",
              "      <td>0</td>\n",
              "      <td>0</td>\n",
              "      <td>4</td>\n",
              "      <td>4</td>\n",
              "      <td>4</td>\n",
              "      <td>...</td>\n",
              "      <td>2</td>\n",
              "      <td>2</td>\n",
              "      <td>3</td>\n",
              "      <td>4</td>\n",
              "      <td>4</td>\n",
              "      <td>4</td>\n",
              "      <td>4</td>\n",
              "      <td>2</td>\n",
              "      <td>2</td>\n",
              "      <td>1</td>\n",
              "    </tr>\n",
              "    <tr>\n",
              "      <th>2</th>\n",
              "      <td>2</td>\n",
              "      <td>2</td>\n",
              "      <td>2</td>\n",
              "      <td>2</td>\n",
              "      <td>1</td>\n",
              "      <td>3</td>\n",
              "      <td>2</td>\n",
              "      <td>1</td>\n",
              "      <td>1</td>\n",
              "      <td>2</td>\n",
              "      <td>...</td>\n",
              "      <td>3</td>\n",
              "      <td>2</td>\n",
              "      <td>3</td>\n",
              "      <td>1</td>\n",
              "      <td>1</td>\n",
              "      <td>1</td>\n",
              "      <td>2</td>\n",
              "      <td>2</td>\n",
              "      <td>2</td>\n",
              "      <td>1</td>\n",
              "    </tr>\n",
              "    <tr>\n",
              "      <th>3</th>\n",
              "      <td>3</td>\n",
              "      <td>2</td>\n",
              "      <td>3</td>\n",
              "      <td>2</td>\n",
              "      <td>3</td>\n",
              "      <td>3</td>\n",
              "      <td>3</td>\n",
              "      <td>3</td>\n",
              "      <td>3</td>\n",
              "      <td>3</td>\n",
              "      <td>...</td>\n",
              "      <td>2</td>\n",
              "      <td>2</td>\n",
              "      <td>3</td>\n",
              "      <td>3</td>\n",
              "      <td>3</td>\n",
              "      <td>3</td>\n",
              "      <td>2</td>\n",
              "      <td>2</td>\n",
              "      <td>2</td>\n",
              "      <td>1</td>\n",
              "    </tr>\n",
              "    <tr>\n",
              "      <th>4</th>\n",
              "      <td>2</td>\n",
              "      <td>2</td>\n",
              "      <td>1</td>\n",
              "      <td>1</td>\n",
              "      <td>1</td>\n",
              "      <td>1</td>\n",
              "      <td>0</td>\n",
              "      <td>0</td>\n",
              "      <td>0</td>\n",
              "      <td>0</td>\n",
              "      <td>...</td>\n",
              "      <td>2</td>\n",
              "      <td>1</td>\n",
              "      <td>2</td>\n",
              "      <td>3</td>\n",
              "      <td>2</td>\n",
              "      <td>2</td>\n",
              "      <td>2</td>\n",
              "      <td>1</td>\n",
              "      <td>0</td>\n",
              "      <td>1</td>\n",
              "    </tr>\n",
              "  </tbody>\n",
              "</table>\n",
              "<p>5 rows × 55 columns</p>\n",
              "</div>\n",
              "    <div class=\"colab-df-buttons\">\n",
              "\n",
              "  <div class=\"colab-df-container\">\n",
              "    <button class=\"colab-df-convert\" onclick=\"convertToInteractive('df-71553736-1f23-4cc7-90a5-a0334c20811d')\"\n",
              "            title=\"Convert this dataframe to an interactive table.\"\n",
              "            style=\"display:none;\">\n",
              "\n",
              "  <svg xmlns=\"http://www.w3.org/2000/svg\" height=\"24px\" viewBox=\"0 -960 960 960\">\n",
              "    <path d=\"M120-120v-720h720v720H120Zm60-500h600v-160H180v160Zm220 220h160v-160H400v160Zm0 220h160v-160H400v160ZM180-400h160v-160H180v160Zm440 0h160v-160H620v160ZM180-180h160v-160H180v160Zm440 0h160v-160H620v160Z\"/>\n",
              "  </svg>\n",
              "    </button>\n",
              "\n",
              "  <style>\n",
              "    .colab-df-container {\n",
              "      display:flex;\n",
              "      gap: 12px;\n",
              "    }\n",
              "\n",
              "    .colab-df-convert {\n",
              "      background-color: #E8F0FE;\n",
              "      border: none;\n",
              "      border-radius: 50%;\n",
              "      cursor: pointer;\n",
              "      display: none;\n",
              "      fill: #1967D2;\n",
              "      height: 32px;\n",
              "      padding: 0 0 0 0;\n",
              "      width: 32px;\n",
              "    }\n",
              "\n",
              "    .colab-df-convert:hover {\n",
              "      background-color: #E2EBFA;\n",
              "      box-shadow: 0px 1px 2px rgba(60, 64, 67, 0.3), 0px 1px 3px 1px rgba(60, 64, 67, 0.15);\n",
              "      fill: #174EA6;\n",
              "    }\n",
              "\n",
              "    .colab-df-buttons div {\n",
              "      margin-bottom: 4px;\n",
              "    }\n",
              "\n",
              "    [theme=dark] .colab-df-convert {\n",
              "      background-color: #3B4455;\n",
              "      fill: #D2E3FC;\n",
              "    }\n",
              "\n",
              "    [theme=dark] .colab-df-convert:hover {\n",
              "      background-color: #434B5C;\n",
              "      box-shadow: 0px 1px 3px 1px rgba(0, 0, 0, 0.15);\n",
              "      filter: drop-shadow(0px 1px 2px rgba(0, 0, 0, 0.3));\n",
              "      fill: #FFFFFF;\n",
              "    }\n",
              "  </style>\n",
              "\n",
              "    <script>\n",
              "      const buttonEl =\n",
              "        document.querySelector('#df-71553736-1f23-4cc7-90a5-a0334c20811d button.colab-df-convert');\n",
              "      buttonEl.style.display =\n",
              "        google.colab.kernel.accessAllowed ? 'block' : 'none';\n",
              "\n",
              "      async function convertToInteractive(key) {\n",
              "        const element = document.querySelector('#df-71553736-1f23-4cc7-90a5-a0334c20811d');\n",
              "        const dataTable =\n",
              "          await google.colab.kernel.invokeFunction('convertToInteractive',\n",
              "                                                    [key], {});\n",
              "        if (!dataTable) return;\n",
              "\n",
              "        const docLinkHtml = 'Like what you see? Visit the ' +\n",
              "          '<a target=\"_blank\" href=https://colab.research.google.com/notebooks/data_table.ipynb>data table notebook</a>'\n",
              "          + ' to learn more about interactive tables.';\n",
              "        element.innerHTML = '';\n",
              "        dataTable['output_type'] = 'display_data';\n",
              "        await google.colab.output.renderOutput(dataTable, element);\n",
              "        const docLink = document.createElement('div');\n",
              "        docLink.innerHTML = docLinkHtml;\n",
              "        element.appendChild(docLink);\n",
              "      }\n",
              "    </script>\n",
              "  </div>\n",
              "\n",
              "\n",
              "<div id=\"df-b30eaebd-ed5a-4be1-99b0-4e21d8f77549\">\n",
              "  <button class=\"colab-df-quickchart\" onclick=\"quickchart('df-b30eaebd-ed5a-4be1-99b0-4e21d8f77549')\"\n",
              "            title=\"Suggest charts\"\n",
              "            style=\"display:none;\">\n",
              "\n",
              "<svg xmlns=\"http://www.w3.org/2000/svg\" height=\"24px\"viewBox=\"0 0 24 24\"\n",
              "     width=\"24px\">\n",
              "    <g>\n",
              "        <path d=\"M19 3H5c-1.1 0-2 .9-2 2v14c0 1.1.9 2 2 2h14c1.1 0 2-.9 2-2V5c0-1.1-.9-2-2-2zM9 17H7v-7h2v7zm4 0h-2V7h2v10zm4 0h-2v-4h2v4z\"/>\n",
              "    </g>\n",
              "</svg>\n",
              "  </button>\n",
              "\n",
              "<style>\n",
              "  .colab-df-quickchart {\n",
              "      --bg-color: #E8F0FE;\n",
              "      --fill-color: #1967D2;\n",
              "      --hover-bg-color: #E2EBFA;\n",
              "      --hover-fill-color: #174EA6;\n",
              "      --disabled-fill-color: #AAA;\n",
              "      --disabled-bg-color: #DDD;\n",
              "  }\n",
              "\n",
              "  [theme=dark] .colab-df-quickchart {\n",
              "      --bg-color: #3B4455;\n",
              "      --fill-color: #D2E3FC;\n",
              "      --hover-bg-color: #434B5C;\n",
              "      --hover-fill-color: #FFFFFF;\n",
              "      --disabled-bg-color: #3B4455;\n",
              "      --disabled-fill-color: #666;\n",
              "  }\n",
              "\n",
              "  .colab-df-quickchart {\n",
              "    background-color: var(--bg-color);\n",
              "    border: none;\n",
              "    border-radius: 50%;\n",
              "    cursor: pointer;\n",
              "    display: none;\n",
              "    fill: var(--fill-color);\n",
              "    height: 32px;\n",
              "    padding: 0;\n",
              "    width: 32px;\n",
              "  }\n",
              "\n",
              "  .colab-df-quickchart:hover {\n",
              "    background-color: var(--hover-bg-color);\n",
              "    box-shadow: 0 1px 2px rgba(60, 64, 67, 0.3), 0 1px 3px 1px rgba(60, 64, 67, 0.15);\n",
              "    fill: var(--button-hover-fill-color);\n",
              "  }\n",
              "\n",
              "  .colab-df-quickchart-complete:disabled,\n",
              "  .colab-df-quickchart-complete:disabled:hover {\n",
              "    background-color: var(--disabled-bg-color);\n",
              "    fill: var(--disabled-fill-color);\n",
              "    box-shadow: none;\n",
              "  }\n",
              "\n",
              "  .colab-df-spinner {\n",
              "    border: 2px solid var(--fill-color);\n",
              "    border-color: transparent;\n",
              "    border-bottom-color: var(--fill-color);\n",
              "    animation:\n",
              "      spin 1s steps(1) infinite;\n",
              "  }\n",
              "\n",
              "  @keyframes spin {\n",
              "    0% {\n",
              "      border-color: transparent;\n",
              "      border-bottom-color: var(--fill-color);\n",
              "      border-left-color: var(--fill-color);\n",
              "    }\n",
              "    20% {\n",
              "      border-color: transparent;\n",
              "      border-left-color: var(--fill-color);\n",
              "      border-top-color: var(--fill-color);\n",
              "    }\n",
              "    30% {\n",
              "      border-color: transparent;\n",
              "      border-left-color: var(--fill-color);\n",
              "      border-top-color: var(--fill-color);\n",
              "      border-right-color: var(--fill-color);\n",
              "    }\n",
              "    40% {\n",
              "      border-color: transparent;\n",
              "      border-right-color: var(--fill-color);\n",
              "      border-top-color: var(--fill-color);\n",
              "    }\n",
              "    60% {\n",
              "      border-color: transparent;\n",
              "      border-right-color: var(--fill-color);\n",
              "    }\n",
              "    80% {\n",
              "      border-color: transparent;\n",
              "      border-right-color: var(--fill-color);\n",
              "      border-bottom-color: var(--fill-color);\n",
              "    }\n",
              "    90% {\n",
              "      border-color: transparent;\n",
              "      border-bottom-color: var(--fill-color);\n",
              "    }\n",
              "  }\n",
              "</style>\n",
              "\n",
              "  <script>\n",
              "    async function quickchart(key) {\n",
              "      const quickchartButtonEl =\n",
              "        document.querySelector('#' + key + ' button');\n",
              "      quickchartButtonEl.disabled = true;  // To prevent multiple clicks.\n",
              "      quickchartButtonEl.classList.add('colab-df-spinner');\n",
              "      try {\n",
              "        const charts = await google.colab.kernel.invokeFunction(\n",
              "            'suggestCharts', [key], {});\n",
              "      } catch (error) {\n",
              "        console.error('Error during call to suggestCharts:', error);\n",
              "      }\n",
              "      quickchartButtonEl.classList.remove('colab-df-spinner');\n",
              "      quickchartButtonEl.classList.add('colab-df-quickchart-complete');\n",
              "    }\n",
              "    (() => {\n",
              "      let quickchartButtonEl =\n",
              "        document.querySelector('#df-b30eaebd-ed5a-4be1-99b0-4e21d8f77549 button');\n",
              "      quickchartButtonEl.style.display =\n",
              "        google.colab.kernel.accessAllowed ? 'block' : 'none';\n",
              "    })();\n",
              "  </script>\n",
              "</div>\n",
              "\n",
              "    </div>\n",
              "  </div>\n"
            ],
            "application/vnd.google.colaboratory.intrinsic+json": {
              "type": "dataframe",
              "variable_name": "data"
            }
          },
          "metadata": {},
          "execution_count": 22
        }
      ]
    },
    {
      "cell_type": "markdown",
      "source": [
        "For the sake of learning, let's create visuals for the data. Given that there are 54 different axes to account for, we cannot display the entirety of the data in one graph. We can create a scatterplot using only 2 of the axes and spot any trends. As we can see below, the data does seem to have some form of correlation/clustering even when comparing only 2 axes at a time."
      ],
      "metadata": {
        "id": "l854iCt0bP_d"
      }
    },
    {
      "cell_type": "code",
      "source": [
        "x = data.Atr1\n",
        "y = data.Atr2\n",
        "status = data.Class\n",
        "\n",
        "plt.scatter(x, y, c=status)\n",
        "plt.show()"
      ],
      "metadata": {
        "colab": {
          "base_uri": "https://localhost:8080/",
          "height": 430
        },
        "id": "kVIkfpX7uvoa",
        "outputId": "02c78aeb-8122-4ed7-d37c-2d40566827bf"
      },
      "execution_count": 23,
      "outputs": [
        {
          "output_type": "display_data",
          "data": {
            "text/plain": [
              "<Figure size 640x480 with 1 Axes>"
            ],
            "image/png": "[encoded data removed]"
          },
          "metadata": {}
        }
      ]
    },
    {
      "cell_type": "code",
      "source": [
        "x = data.Atr3\n",
        "y = data.Atr4\n",
        "\n",
        "plt.scatter(x, y, c=status)\n",
        "plt.show()"
      ],
      "metadata": {
        "colab": {
          "base_uri": "https://localhost:8080/",
          "height": 430
        },
        "id": "S6Fd549Cw6x3",
        "outputId": "aee42347-d8b0-4049-cdd1-560d47c4283f"
      },
      "execution_count": 24,
      "outputs": [
        {
          "output_type": "display_data",
          "data": {
            "text/plain": [
              "<Figure size 640x480 with 1 Axes>"
            ],
            "image/png": "[encoded data removed]"
          },
          "metadata": {}
        }
      ]
    },
    {
      "cell_type": "code",
      "source": [
        "x = data.Atr5\n",
        "y = data.Atr6\n",
        "\n",
        "plt.scatter(x, y, c=status)\n",
        "plt.show()"
      ],
      "metadata": {
        "colab": {
          "base_uri": "https://localhost:8080/",
          "height": 430
        },
        "id": "3mz10_MCv1wl",
        "outputId": "eb0deb35-a287-4841-f745-66b8e0d01d64"
      },
      "execution_count": 25,
      "outputs": [
        {
          "output_type": "display_data",
          "data": {
            "text/plain": [
              "<Figure size 640x480 with 1 Axes>"
            ],
            "image/png": "[encoded data removed]"
          },
          "metadata": {}
        }
      ]
    },
    {
      "cell_type": "markdown",
      "source": [
        "## Defining our Own Functions"
      ],
      "metadata": {
        "id": "4-Tp272LL3_t"
      }
    },
    {
      "cell_type": "markdown",
      "source": [
        "The first function we will define is one that takes the Euclidean distance of two points. By entering two dataframes with an index specifying the column being used we can get all the necessary information. From there, just repeatedly solve for c^2 in the pythagorean theorem and take the square root at the end to get the overall distance. *Note: As the amount of axes increases, the Euclidean distance metric can become less reliable and as a result sometimes other formulas must be used.*"
      ],
      "metadata": {
        "id": "35-XZwnrL9bK"
      }
    },
    {
      "cell_type": "code",
      "source": [
        "def euclideanDistance (dataframeOne, dataframeTwo, indexOne, indexTwo):\n",
        "  distance = dataframeTwo.iloc[0,indexTwo] - dataframeOne.iloc[0,indexOne] # Distance in the case of 1D\n",
        "\n",
        "  # Take the distance squared to prepare for pythagorean theorem\n",
        "  distance *= distance\n",
        "\n",
        "  # For each axis, calculate the new distance. Hard coded for the dataset\n",
        "  for i in range(1, 54):\n",
        "    distance = distance + ((dataframeTwo.iloc[i,indexTwo] - dataframeOne.iloc[i,indexOne]) ** 2)\n",
        "\n",
        "  # Square root and return\n",
        "  distance = distance ** .5\n",
        "  return distance"
      ],
      "metadata": {
        "id": "IN8bWQA1rJSj"
      },
      "execution_count": 26,
      "outputs": []
    },
    {
      "cell_type": "markdown",
      "source": [
        "The next function I wrote takes the Manhattan distance of two points. It works largely the same way as the function before but instead of squaring values it just takes the absolute value of the difference on each axis and sums them all together. I hope to see how the two algorithms compare further down."
      ],
      "metadata": {
        "id": "5SePBjklMmUC"
      }
    },
    {
      "cell_type": "code",
      "source": [
        "def manhattanDistance (dataframeOne, dataframeTwo, indexOne, indexTwo):\n",
        "  distance = abs(dataframeTwo.iloc[0,indexTwo] - dataframeOne.iloc[0,indexOne]) # One axis case\n",
        "\n",
        "  # For each axis, calculate the new distance. Hard coded for the dataset\n",
        "  for i in range(1, 54):\n",
        "    distance = distance + abs(dataframeTwo.iloc[i,indexTwo] - dataframeOne.iloc[i,indexOne])\n",
        "\n",
        "  return distance"
      ],
      "metadata": {
        "id": "uYyK9bStDup7"
      },
      "execution_count": 27,
      "outputs": []
    },
    {
      "cell_type": "markdown",
      "source": [
        "As a part of the KNN algorithm, we need to be able to specify a k value to dictate how many points we want to look at. This function takes in a list of values and an integer to represent k. It will return a list of tuples which contain the index of the minimum value as well as the value itself. The value is not necessary to store but is kept for visualization and verification of the data."
      ],
      "metadata": {
        "id": "me9QOKjHNb-O"
      }
    },
    {
      "cell_type": "code",
      "source": [
        "def topX (ls, k):\n",
        "  values = []\n",
        "\n",
        "  # Create a tuple (index, value) and add it to a list\n",
        "  for x in range(k):\n",
        "    temp = (ls.index(min(ls)), min(ls)) # Store min as well for visualization of data\n",
        "    values.append(temp)\n",
        "    ls.remove(min(ls))\n",
        "\n",
        "  #Return the list\n",
        "  return values"
      ],
      "metadata": {
        "id": "rKh_36tzrurC"
      },
      "execution_count": 28,
      "outputs": []
    },
    {
      "cell_type": "markdown",
      "source": [
        "This next function will classify whether the couple will split or stay together based on the data provided. It works by adding up the class values (either 0 for divorced or 1 for married) and then dividing by the total amount. Finally it rounds the value. This cuts down on later code redundancy."
      ],
      "metadata": {
        "id": "1PtlpLLKOFAj"
      }
    },
    {
      "cell_type": "code",
      "source": [
        "def classify (dataframe, ls):\n",
        "  # Set up prerequisite variables\n",
        "  divisor = len(ls)\n",
        "  dividend = 0\n",
        "\n",
        "  # Add the class value to the dividend\n",
        "  for i in range(divisor):\n",
        "    dividend += dataframe.iloc[54,ls[i][0]]\n",
        "\n",
        "  # Round to 1 or 0\n",
        "  return round(dividend/divisor)"
      ],
      "metadata": {
        "id": "9Gsdhg2_vTIH"
      },
      "execution_count": 29,
      "outputs": []
    },
    {
      "cell_type": "markdown",
      "source": [
        "This final function takes the guessed values and actual values and determines the data like True Positive, False Positive, etc. It returns a tuple of structure (True Positive, False Positive, True Negative, False Negative). In this case, each one represents:"
      ],
      "metadata": {
        "id": "LQiZ9rCQOuhC"
      }
    },
    {
      "cell_type": "markdown",
      "source": [
        "**True Positive** - algorithm predicts staying married and couple stays married"
      ],
      "metadata": {
        "id": "grnUqK3SPQal"
      }
    },
    {
      "cell_type": "markdown",
      "source": [
        "**False Positive** - algorithm predicts staying married and the couple divorces"
      ],
      "metadata": {
        "id": "KKGcZs4KPRXe"
      }
    },
    {
      "cell_type": "markdown",
      "source": [
        "**True Negative** - algorithm predicts a divorce and the couple divorces"
      ],
      "metadata": {
        "id": "rMwV6Tg7PYzx"
      }
    },
    {
      "cell_type": "markdown",
      "source": [
        "**False Negative** - algorithm predicts a divorce and the couple stays married"
      ],
      "metadata": {
        "id": "UFnMdMm-Peo8"
      }
    },
    {
      "cell_type": "code",
      "source": [
        "def evaluate (testValues, actualValues):\n",
        "  TP = 0\n",
        "  TN = 0\n",
        "  FP = 0\n",
        "  FN = 0\n",
        "\n",
        "  for i in range(len(testValues)):\n",
        "    if testValues[i] == actualValues[i]:\n",
        "      if testValues[i] == 0:\n",
        "        TN += 1\n",
        "      else:\n",
        "        TP += 1\n",
        "    else:\n",
        "      if testValues[i] == 0:\n",
        "        FN += 1\n",
        "      else:\n",
        "        FP += 1\n",
        "\n",
        "  return (TP, FP, TN, FN)"
      ],
      "metadata": {
        "id": "2PZkwwHlBDzi"
      },
      "execution_count": 30,
      "outputs": []
    },
    {
      "cell_type": "markdown",
      "source": [
        "## Data Sampling and Preparation"
      ],
      "metadata": {
        "id": "tz_8X-HmPrfJ"
      }
    },
    {
      "cell_type": "markdown",
      "source": [
        "In order to test the KNN algorithm, we must split our data into training data and testing data (I called it input data since the model is not really 'training' rather just using givens and calculating). We can create two dataframes to store these two sections. I also transpose each of them to make the data management easier in other portions of code."
      ],
      "metadata": {
        "id": "4zJfjAOdP1s-"
      }
    },
    {
      "cell_type": "code",
      "source": [
        "input_Data = data.sample(frac=0.8)\n",
        "test_Data = data.drop(input_Data.index)\n",
        "\n",
        "\n",
        "input_Data = input_Data.transpose()\n",
        "test_Data = test_Data.transpose()"
      ],
      "metadata": {
        "id": "mbAfGzmqxF02",
        "collapsed": true
      },
      "execution_count": 31,
      "outputs": []
    },
    {
      "cell_type": "markdown",
      "source": [
        "## Euclidean Distance"
      ],
      "metadata": {
        "id": "QXSo_iaEQUa6"
      }
    },
    {
      "cell_type": "markdown",
      "source": [
        "First, let's collect all of the distances of each point combination. This may take a while because there is a lot being calculated. The time complexity of something like this is ~ O(n^2) but if this needed to be scaled up and divide and conquer algorithm could be implemented."
      ],
      "metadata": {
        "id": "s-fKxMohQcUw"
      }
    },
    {
      "cell_type": "markdown",
      "source": [
        "After we do that, lets condense the list into the top k closest points for each point. In this instance we choose 5 but we can change the number if we'd like."
      ],
      "metadata": {
        "id": "3YLGNy3IRJLr"
      }
    },
    {
      "cell_type": "code",
      "source": [
        "topDistancesforEachPoint = [] # Stores a list of lists holding top distances\n",
        "for i in range(len(test_Data.columns)): # For every test point\n",
        "  distances = []\n",
        "\n",
        "  for j in range(len(input_Data.columns)): # For every input calculate and store distance\n",
        "    distances.append(euclideanDistance(test_Data, input_Data, i, j))\n",
        "\n",
        "  # Store the top 5 distances and append to the overall list\n",
        "  distances = topX(distances, 5)\n",
        "  topDistancesforEachPoint.append(distances)\n",
        "\n",
        "topDistancesforEachPoint"
      ],
      "metadata": {
        "colab": {
          "base_uri": "https://localhost:8080/"
        },
        "id": "LFLauaPY0Dr4",
        "outputId": "0a405495-d6ca-42b8-f039-5a675edf80c3"
      },
      "execution_count": 32,
      "outputs": [
        {
          "output_type": "execute_result",
          "data": {
            "text/plain": [
              "[[(0, 9.486832980505138),\n",
              "  (64, 9.486832980505138),\n",
              "  (75, 10.583005244258363),\n",
              "  (69, 10.63014581273465),\n",
              "  (75, 10.63014581273465)],\n",
              " [(5, 0.0),\n",
              "  (5, 3.1622776601683795),\n",
              "  (53, 3.1622776601683795),\n",
              "  (69, 3.1622776601683795),\n",
              "  (90, 3.1622776601683795)],\n",
              " [(110, 0.0),\n",
              "  (100, 3.1622776601683795),\n",
              "  (101, 3.1622776601683795),\n",
              "  (6, 3.3166247903554),\n",
              "  (117, 3.3166247903554)],\n",
              " [(94, 2.23606797749979),\n",
              "  (129, 3.0),\n",
              "  (5, 3.872983346207417),\n",
              "  (5, 3.872983346207417),\n",
              "  (35, 3.872983346207417)],\n",
              " [(94, 2.23606797749979),\n",
              "  (129, 3.0),\n",
              "  (5, 3.872983346207417),\n",
              "  (5, 3.872983346207417),\n",
              "  (35, 3.872983346207417)],\n",
              " [(76, 1.0),\n",
              "  (124, 2.23606797749979),\n",
              "  (20, 3.1622776601683795),\n",
              "  (36, 3.1622776601683795),\n",
              "  (46, 3.1622776601683795)],\n",
              " [(76, 1.0),\n",
              "  (124, 2.23606797749979),\n",
              "  (20, 3.1622776601683795),\n",
              "  (36, 3.1622776601683795),\n",
              "  (46, 3.1622776601683795)],\n",
              " [(37, 2.23606797749979),\n",
              "  (47, 2.23606797749979),\n",
              "  (58, 2.23606797749979),\n",
              "  (117, 2.23606797749979),\n",
              "  (130, 2.23606797749979)],\n",
              " [(35, 2.23606797749979),\n",
              "  (45, 2.23606797749979),\n",
              "  (98, 2.23606797749979),\n",
              "  (37, 2.449489742783178),\n",
              "  (9, 3.1622776601683795)],\n",
              " [(79, 3.872983346207417),\n",
              "  (15, 4.0),\n",
              "  (105, 4.0),\n",
              "  (16, 4.123105625617661),\n",
              "  (18, 4.242640687119285)],\n",
              " [(76, 3.4641016151377544),\n",
              "  (105, 4.0),\n",
              "  (123, 4.242640687119285),\n",
              "  (78, 4.47213595499958),\n",
              "  (15, 4.58257569495584)],\n",
              " [(130, 4.358898943540674),\n",
              "  (79, 4.47213595499958),\n",
              "  (37, 4.795831523312719),\n",
              "  (47, 4.795831523312719),\n",
              "  (91, 4.795831523312719)],\n",
              " [(90, 1.0),\n",
              "  (9, 2.23606797749979),\n",
              "  (41, 3.1622776601683795),\n",
              "  (37, 3.3166247903554),\n",
              "  (57, 3.3166247903554)],\n",
              " [(102, 11.661903789690601),\n",
              "  (15, 11.789826122551595),\n",
              "  (105, 11.789826122551595),\n",
              "  (104, 11.832159566199232),\n",
              "  (76, 11.958260743101398)],\n",
              " [(21, 3.3166247903554),\n",
              "  (52, 3.3166247903554),\n",
              "  (72, 3.3166247903554),\n",
              "  (77, 3.3166247903554),\n",
              "  (32, 4.58257569495584)],\n",
              " [(106, 3.1622776601683795),\n",
              "  (9, 3.605551275463989),\n",
              "  (14, 3.872983346207417),\n",
              "  (104, 3.872983346207417),\n",
              "  (77, 4.0)],\n",
              " [(79, 3.3166247903554),\n",
              "  (21, 3.7416573867739413),\n",
              "  (52, 3.7416573867739413),\n",
              "  (72, 3.7416573867739413),\n",
              "  (76, 3.7416573867739413)],\n",
              " [(111, 4.47213595499958),\n",
              "  (10, 8.246211251235321),\n",
              "  (64, 8.306623862918075),\n",
              "  (33, 9.0),\n",
              "  (74, 9.1104335791443)],\n",
              " [(88, 4.123105625617661),\n",
              "  (18, 4.58257569495584),\n",
              "  (2, 4.795831523312719),\n",
              "  (92, 4.898979485566356),\n",
              "  (41, 5.0)],\n",
              " [(108, 5.0990195135927845),\n",
              "  (43, 5.5677643628300215),\n",
              "  (85, 6.0),\n",
              "  (86, 6.082762530298219),\n",
              "  (72, 6.244997998398398)],\n",
              " [(88, 4.47213595499958),\n",
              "  (18, 4.898979485566356),\n",
              "  (2, 5.477225575051661),\n",
              "  (17, 5.477225575051661),\n",
              "  (55, 5.477225575051661)],\n",
              " [(16, 5.830951894845301),\n",
              "  (72, 6.0),\n",
              "  (106, 6.4031242374328485),\n",
              "  (57, 6.782329983125268),\n",
              "  (48, 6.855654600401044)],\n",
              " [(18, 4.898979485566356),\n",
              "  (18, 5.0990195135927845),\n",
              "  (86, 5.0990195135927845),\n",
              "  (132, 5.196152422706632),\n",
              "  (1, 5.291502622129181)],\n",
              " [(89, 4.898979485566356),\n",
              "  (73, 5.385164807134504),\n",
              "  (43, 5.5677643628300215),\n",
              "  (2, 5.744562646538029),\n",
              "  (92, 5.830951894845301)],\n",
              " [(18, 5.385164807134504),\n",
              "  (7, 5.477225575051661),\n",
              "  (7, 6.0),\n",
              "  (56, 6.0),\n",
              "  (118, 6.0)],\n",
              " [(52, 4.898979485566356),\n",
              "  (90, 5.0),\n",
              "  (18, 5.385164807134504),\n",
              "  (119, 5.477225575051661),\n",
              "  (56, 5.5677643628300215)],\n",
              " [(63, 5.0),\n",
              "  (16, 5.385164807134504),\n",
              "  (57, 5.385164807134504),\n",
              "  (60, 5.477225575051661),\n",
              "  (65, 5.5677643628300215)],\n",
              " [(8, 7.0710678118654755),\n",
              "  (72, 7.280109889280518),\n",
              "  (102, 7.280109889280518),\n",
              "  (123, 7.3484692283495345),\n",
              "  (68, 7.416198487095663)],\n",
              " [(54, 7.615773105863909),\n",
              "  (50, 7.874007874011811),\n",
              "  (57, 8.660254037844387),\n",
              "  (56, 9.273618495495704),\n",
              "  (49, 9.327379053088816)],\n",
              " [(132, 6.6332495807108),\n",
              "  (64, 6.782329983125268),\n",
              "  (22, 6.928203230275509),\n",
              "  (127, 6.928203230275509),\n",
              "  (55, 7.0)],\n",
              " [(69, 4.58257569495584),\n",
              "  (72, 5.196152422706632),\n",
              "  (2, 5.5677643628300215),\n",
              "  (56, 5.5677643628300215),\n",
              "  (67, 5.5677643628300215)],\n",
              " [(2, 5.5677643628300215),\n",
              "  (57, 5.5677643628300215),\n",
              "  (48, 5.656854249492381),\n",
              "  (15, 5.916079783099616),\n",
              "  (51, 5.916079783099616)],\n",
              " [(63, 4.795831523312719),\n",
              "  (68, 4.795831523312719),\n",
              "  (47, 5.196152422706632),\n",
              "  (79, 5.196152422706632),\n",
              "  (7, 5.656854249492381)],\n",
              " [(115, 6.48074069840786),\n",
              "  (73, 6.782329983125268),\n",
              "  (107, 6.855654600401044),\n",
              "  (1, 6.928203230275509),\n",
              "  (25, 6.928203230275509)]]"
            ]
          },
          "metadata": {},
          "execution_count": 32
        }
      ]
    },
    {
      "cell_type": "markdown",
      "source": [
        "Now, let's give a classification to each point. All we have to do is run classify on each point and add them to an overall list."
      ],
      "metadata": {
        "id": "LQHmZnBERVxT"
      }
    },
    {
      "cell_type": "code",
      "source": [
        "classifications = []\n",
        "\n",
        "for i in range(len(topDistancesforEachPoint)):\n",
        "  classifications.append(classify(input_Data, topDistancesforEachPoint[i]))\n",
        "\n",
        "classifications"
      ],
      "metadata": {
        "id": "Qn3iIMg632JD",
        "colab": {
          "base_uri": "https://localhost:8080/"
        },
        "outputId": "89f3f494-c1a4-42fe-cec8-a25eca448d0c"
      },
      "execution_count": 33,
      "outputs": [
        {
          "output_type": "execute_result",
          "data": {
            "text/plain": [
              "[1,\n",
              " 1,\n",
              " 1,\n",
              " 1,\n",
              " 1,\n",
              " 1,\n",
              " 1,\n",
              " 0,\n",
              " 1,\n",
              " 0,\n",
              " 1,\n",
              " 1,\n",
              " 1,\n",
              " 1,\n",
              " 1,\n",
              " 1,\n",
              " 1,\n",
              " 1,\n",
              " 0,\n",
              " 0,\n",
              " 0,\n",
              " 1,\n",
              " 0,\n",
              " 0,\n",
              " 0,\n",
              " 0,\n",
              " 0,\n",
              " 0,\n",
              " 0,\n",
              " 0,\n",
              " 0,\n",
              " 1,\n",
              " 0,\n",
              " 0]"
            ]
          },
          "metadata": {},
          "execution_count": 33
        }
      ]
    },
    {
      "cell_type": "markdown",
      "source": [
        "This section of code is just getting the actual values from the dataframe and putting them in the same format as the classifications."
      ],
      "metadata": {
        "id": "6hthNc2WRtyh"
      }
    },
    {
      "cell_type": "code",
      "source": [
        "actual_Values = []\n",
        "for i in range(len(test_Data.columns)):\n",
        "  actual_Values.append(test_Data.iloc[54,i])\n",
        "\n",
        "actual_Values"
      ],
      "metadata": {
        "colab": {
          "base_uri": "https://localhost:8080/"
        },
        "id": "j6m4R8LqAPnj",
        "outputId": "f8b3950c-eb1e-4b63-d438-16421cb8fed0"
      },
      "execution_count": 34,
      "outputs": [
        {
          "output_type": "execute_result",
          "data": {
            "text/plain": [
              "[1,\n",
              " 1,\n",
              " 1,\n",
              " 1,\n",
              " 1,\n",
              " 1,\n",
              " 1,\n",
              " 1,\n",
              " 1,\n",
              " 1,\n",
              " 1,\n",
              " 1,\n",
              " 1,\n",
              " 1,\n",
              " 1,\n",
              " 1,\n",
              " 1,\n",
              " 1,\n",
              " 0,\n",
              " 0,\n",
              " 0,\n",
              " 0,\n",
              " 0,\n",
              " 0,\n",
              " 0,\n",
              " 0,\n",
              " 0,\n",
              " 0,\n",
              " 0,\n",
              " 0,\n",
              " 0,\n",
              " 0,\n",
              " 0,\n",
              " 0]"
            ]
          },
          "metadata": {},
          "execution_count": 34
        }
      ]
    },
    {
      "cell_type": "markdown",
      "source": [
        "Finally, run the results function to get our tuple of data. These results will then be used to calculate accuracy, precision, and recall."
      ],
      "metadata": {
        "id": "KSVc8i0NR4RI"
      }
    },
    {
      "cell_type": "code",
      "source": [
        "results = evaluate(classifications, actual_Values)\n",
        "print(\"Accuracy: \" + str((results[0] + results[2]) / (results[0] + results[1] + results[2] + results[3])))\n",
        "print(\"Precision: \" + str(results[0] / (results[0] + results[1])))\n",
        "print(\"Recall: \" + str(results[0] / (results[0] + results[3])))"
      ],
      "metadata": {
        "colab": {
          "base_uri": "https://localhost:8080/"
        },
        "id": "LfHRcPUsA56K",
        "outputId": "368d1c49-721b-430c-d126-d9c28361692a"
      },
      "execution_count": 35,
      "outputs": [
        {
          "output_type": "stream",
          "name": "stdout",
          "text": [
            "Accuracy: 0.8823529411764706\n",
            "Precision: 0.8888888888888888\n",
            "Recall: 0.8888888888888888\n"
          ]
        }
      ]
    },
    {
      "cell_type": "markdown",
      "source": [
        "As we can see by the data, ~88% of the classification the model made were correct. This paired with a similar precision means that the model is pretty reliable when it predicts whether a couple will stay together."
      ],
      "metadata": {
        "id": "V3kvuvnXSLZp"
      }
    },
    {
      "cell_type": "markdown",
      "source": [
        "## Manhattan Distance"
      ],
      "metadata": {
        "id": "sT-dlgJlS7a7"
      }
    },
    {
      "cell_type": "markdown",
      "source": [
        "Most of this section will be the same as before. In this we are collecting all of the distances and then storing the top 5."
      ],
      "metadata": {
        "id": "T15BvPnDTB8Y"
      }
    },
    {
      "cell_type": "code",
      "source": [
        "topDistancesforEachPoint = [] # Stores a list of lists holding top distances\n",
        "for i in range(len(test_Data.columns)): # For every test point\n",
        "  distances = []\n",
        "\n",
        "  for j in range(len(input_Data.columns)): # For every input calculate and store distance\n",
        "    distances.append(manhattanDistance(test_Data, input_Data, i, j))\n",
        "\n",
        "  # Store the top 5 distances and append to the overall list\n",
        "  distances = topX(distances, 5)\n",
        "  topDistancesforEachPoint.append(distances)\n",
        "\n",
        "topDistancesforEachPoint"
      ],
      "metadata": {
        "colab": {
          "base_uri": "https://localhost:8080/"
        },
        "id": "eIw9r3x4B512",
        "outputId": "6814ea65-1698-4c64-885f-378f6c814d13"
      },
      "execution_count": 36,
      "outputs": [
        {
          "output_type": "execute_result",
          "data": {
            "text/plain": [
              "[[(0, 50), (64, 50), (11, 56), (68, 57), (73, 58)],\n",
              " [(5, 0), (5, 10), (53, 10), (69, 10), (90, 10)],\n",
              " [(110, 0), (100, 10), (101, 10), (6, 11), (117, 11)],\n",
              " [(94, 5), (129, 9), (5, 15), (5, 15), (35, 15)],\n",
              " [(94, 5), (129, 9), (5, 15), (5, 15), (35, 15)],\n",
              " [(76, 1), (124, 5), (20, 10), (36, 10), (46, 10)],\n",
              " [(76, 1), (124, 5), (20, 10), (36, 10), (46, 10)],\n",
              " [(37, 5), (47, 5), (58, 5), (117, 5), (130, 5)],\n",
              " [(35, 5), (45, 5), (98, 5), (37, 6), (9, 10)],\n",
              " [(79, 15), (15, 16), (105, 16), (16, 17), (18, 18)],\n",
              " [(79, 10), (76, 12), (104, 16), (122, 18), (15, 21)],\n",
              " [(130, 19), (79, 20), (37, 23), (47, 23), (91, 23)],\n",
              " [(90, 1), (9, 5), (41, 10), (37, 11), (57, 11)],\n",
              " [(110, 52), (6, 53), (119, 53), (101, 56), (28, 60)],\n",
              " [(21, 11), (52, 11), (72, 11), (77, 11), (32, 21)],\n",
              " [(106, 10), (9, 13), (14, 15), (104, 15), (77, 16)],\n",
              " [(79, 11), (21, 14), (52, 14), (72, 14), (76, 14)],\n",
              " [(111, 8), (77, 41), (65, 43), (10, 48), (33, 49)],\n",
              " [(88, 17), (18, 19), (2, 21), (41, 21), (87, 21)],\n",
              " [(108, 18), (43, 19), (18, 23), (56, 23), (1, 25)],\n",
              " [(88, 16), (18, 18), (55, 20), (56, 20), (87, 20)],\n",
              " [(58, 18), (72, 20), (106, 21), (2, 22), (15, 22)],\n",
              " [(18, 18), (87, 18), (130, 19), (1, 22), (1, 22)],\n",
              " [(43, 23), (72, 23), (87, 24), (93, 24), (2, 25)],\n",
              " [(18, 21), (56, 23), (56, 23), (7, 24), (55, 24)],\n",
              " [(52, 20), (90, 21), (2, 25), (17, 25), (55, 25)],\n",
              " [(63, 19), (62, 20), (94, 20), (16, 21), (57, 21)],\n",
              " [(104, 25), (73, 27), (8, 28), (105, 28), (42, 29)],\n",
              " [(50, 18), (53, 30), (56, 32), (56, 35), (100, 36)],\n",
              " [(64, 26), (131, 26), (18, 29), (42, 29), (54, 29)],\n",
              " [(69, 19), (69, 21), (16, 25), (56, 25), (69, 25)],\n",
              " [(2, 21), (95, 26), (57, 27), (48, 28), (64, 28)],\n",
              " [(47, 21), (62, 21), (67, 23), (7, 24), (56, 25)],\n",
              " [(115, 26), (73, 28), (107, 29), (1, 30), (25, 30)]]"
            ]
          },
          "metadata": {},
          "execution_count": 36
        }
      ]
    },
    {
      "cell_type": "markdown",
      "source": [
        "Now we are classifying all of the test points and storing them."
      ],
      "metadata": {
        "id": "osWt5gUeTL4i"
      }
    },
    {
      "cell_type": "code",
      "source": [
        "classifications = []\n",
        "\n",
        "for i in range(len(topDistancesforEachPoint)):\n",
        "  classifications.append(classify(input_Data, topDistancesforEachPoint[i]))\n",
        "\n",
        "classifications"
      ],
      "metadata": {
        "colab": {
          "base_uri": "https://localhost:8080/"
        },
        "id": "u2u6m0YmEQMv",
        "outputId": "b63447d2-5768-4dea-d9e3-ba34a461f199"
      },
      "execution_count": 37,
      "outputs": [
        {
          "output_type": "execute_result",
          "data": {
            "text/plain": [
              "[0,\n",
              " 1,\n",
              " 1,\n",
              " 1,\n",
              " 1,\n",
              " 1,\n",
              " 1,\n",
              " 0,\n",
              " 1,\n",
              " 0,\n",
              " 1,\n",
              " 1,\n",
              " 1,\n",
              " 1,\n",
              " 1,\n",
              " 1,\n",
              " 1,\n",
              " 1,\n",
              " 0,\n",
              " 0,\n",
              " 0,\n",
              " 1,\n",
              " 0,\n",
              " 0,\n",
              " 0,\n",
              " 1,\n",
              " 0,\n",
              " 0,\n",
              " 0,\n",
              " 0,\n",
              " 0,\n",
              " 0,\n",
              " 0,\n",
              " 0]"
            ]
          },
          "metadata": {},
          "execution_count": 37
        }
      ]
    },
    {
      "cell_type": "markdown",
      "source": [
        "Finally we display the results."
      ],
      "metadata": {
        "id": "SfTxvTlQTSf6"
      }
    },
    {
      "cell_type": "code",
      "source": [
        "results = evaluate(classifications, actual_Values)\n",
        "print(\"Accuracy: \" + str((results[0] + results[2]) / (results[0] + results[1] + results[2] + results[3])))\n",
        "print(\"Precision: \" + str(results[0] / (results[0] + results[1])))\n",
        "print(\"Recall: \" + str(results[0] / (results[0] + results[3])))"
      ],
      "metadata": {
        "colab": {
          "base_uri": "https://localhost:8080/"
        },
        "id": "Sn9ekQodEVPi",
        "outputId": "47be71d6-3333-47e2-fc41-6a17594de045"
      },
      "execution_count": 38,
      "outputs": [
        {
          "output_type": "stream",
          "name": "stdout",
          "text": [
            "Accuracy: 0.8529411764705882\n",
            "Precision: 0.8823529411764706\n",
            "Recall: 0.8333333333333334\n"
          ]
        }
      ]
    },
    {
      "cell_type": "markdown",
      "source": [
        "These results are fairly good too. Running it a few times I find that it runs either as well as the Euclidean distance or a little bit worse. In both cases it runs better than random guessing would which is a good sign."
      ],
      "metadata": {
        "id": "Cci9Sh0WTWWi"
      }
    },
    {
      "cell_type": "markdown",
      "source": [
        "## Results"
      ],
      "metadata": {
        "id": "ugiekLp6T1YM"
      }
    },
    {
      "cell_type": "markdown",
      "source": [
        "I started this project as an introduction to using python for basic AI purposes. In that vein, this project was a major success. I got experience managing dataframes with pandas, planning a project from start to finish, doing mathematics for higher dimensions that I am used to, and most importantly learned the fundamentals of the KNN algorithm. In the end I had functioning code to calculate this dataset and with minor changes I could abstract this code to work for any other. Overall it was an enjoyable experience."
      ],
      "metadata": {
        "id": "lcK5_iOjT7qd"
      }
    }
  ]
}
